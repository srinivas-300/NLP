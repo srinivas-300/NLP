{
 "cells": [
  {
   "cell_type": "code",
   "execution_count": 97,
   "id": "43826677",
   "metadata": {},
   "outputs": [],
   "source": [
    "import numpy as np\n",
    "import pandas as pd\n",
    "import matplotlib.pyplot as plt\n",
    "import torch\n",
    "import torch.nn as nn\n",
    "from torch.utils.data import DataLoader , Dataset\n",
    "import spacy\n",
    "import nltk\n",
    "from nltk.corpus import brown\n",
    "from torchsummary import summary\n",
    "from torch.nn.utils.rnn import pad_sequence\n",
    "from sklearn.metrics import accuracy_score"
   ]
  },
  {
   "cell_type": "code",
   "execution_count": null,
   "id": "ceeceb3f",
   "metadata": {},
   "outputs": [],
   "source": []
  },
  {
   "cell_type": "code",
   "execution_count": null,
   "id": "8befbf28",
   "metadata": {},
   "outputs": [],
   "source": []
  },
  {
   "cell_type": "markdown",
   "id": "e408af63",
   "metadata": {},
   "source": [
    "## Using POS tagger en_core_web_sm"
   ]
  },
  {
   "cell_type": "code",
   "execution_count": 2,
   "id": "669235ca",
   "metadata": {},
   "outputs": [],
   "source": [
    "pos = spacy.load(\"en_core_web_sm\")"
   ]
  },
  {
   "cell_type": "code",
   "execution_count": 3,
   "id": "a9e83602",
   "metadata": {},
   "outputs": [
    {
     "data": {
      "text/plain": [
       "Hi , my name is Srinivas"
      ]
     },
     "execution_count": 3,
     "metadata": {},
     "output_type": "execute_result"
    }
   ],
   "source": [
    "sample=pos(\"Hi , my name is Srinivas\")\n",
    "sample"
   ]
  },
  {
   "cell_type": "code",
   "execution_count": 4,
   "id": "e9271dbf",
   "metadata": {},
   "outputs": [
    {
     "name": "stdout",
     "output_type": "stream",
     "text": [
      "Hi  -->  INTJ\n",
      ",  -->  PUNCT\n",
      "my  -->  PRON\n",
      "name  -->  NOUN\n",
      "is  -->  AUX\n",
      "Srinivas  -->  PROPN\n"
     ]
    }
   ],
   "source": [
    "for _ in sample:\n",
    "    print(_.text,\" --> \",_.pos_)"
   ]
  },
  {
   "cell_type": "code",
   "execution_count": null,
   "id": "db336a36",
   "metadata": {},
   "outputs": [],
   "source": []
  },
  {
   "cell_type": "markdown",
   "id": "5c187af8",
   "metadata": {},
   "source": [
    "## Using News category of Brown corpus to generate vocabulary and pos tags for training of models and testing on other categories"
   ]
  },
  {
   "cell_type": "code",
   "execution_count": 5,
   "id": "f63ce26b",
   "metadata": {},
   "outputs": [
    {
     "data": {
      "text/plain": [
       "['adventure',\n",
       " 'belles_lettres',\n",
       " 'editorial',\n",
       " 'fiction',\n",
       " 'government',\n",
       " 'hobbies',\n",
       " 'humor',\n",
       " 'learned',\n",
       " 'lore',\n",
       " 'mystery',\n",
       " 'news',\n",
       " 'religion',\n",
       " 'reviews',\n",
       " 'romance',\n",
       " 'science_fiction']"
      ]
     },
     "execution_count": 5,
     "metadata": {},
     "output_type": "execute_result"
    }
   ],
   "source": [
    "brown.categories()"
   ]
  },
  {
   "cell_type": "code",
   "execution_count": 6,
   "id": "7153dd08",
   "metadata": {},
   "outputs": [
    {
     "data": {
      "text/plain": [
       "['The', 'Fulton', 'County', 'Grand', 'Jury', 'said', ...]"
      ]
     },
     "execution_count": 6,
     "metadata": {},
     "output_type": "execute_result"
    }
   ],
   "source": [
    "brown.words(categories='news')"
   ]
  },
  {
   "cell_type": "code",
   "execution_count": 7,
   "id": "a6d9a0f4",
   "metadata": {},
   "outputs": [
    {
     "data": {
      "text/plain": [
       "100554"
      ]
     },
     "execution_count": 7,
     "metadata": {},
     "output_type": "execute_result"
    }
   ],
   "source": [
    "len(brown.tagged_words(categories='news'))"
   ]
  },
  {
   "cell_type": "code",
   "execution_count": 8,
   "id": "84fcbcfc",
   "metadata": {},
   "outputs": [
    {
     "data": {
      "text/plain": [
       "[('The', 'AT'), ('Fulton', 'NP-TL'), ...]"
      ]
     },
     "execution_count": 8,
     "metadata": {},
     "output_type": "execute_result"
    }
   ],
   "source": [
    "brown.tagged_words(categories='news')"
   ]
  },
  {
   "cell_type": "code",
   "execution_count": 9,
   "id": "66be84a0",
   "metadata": {},
   "outputs": [
    {
     "name": "stdout",
     "output_type": "stream",
     "text": [
      "('The', 'AT')\n",
      "('Fulton', 'NP-TL')\n",
      "('County', 'NN-TL')\n",
      "('Grand', 'JJ-TL')\n",
      "('Jury', 'NN-TL')\n",
      "('said', 'VBD')\n",
      "('Friday', 'NR')\n",
      "('an', 'AT')\n",
      "('investigation', 'NN')\n",
      "('of', 'IN')\n"
     ]
    }
   ],
   "source": [
    "for i in range(10):\n",
    "    print(brown.tagged_words(categories='news')[i])"
   ]
  },
  {
   "cell_type": "code",
   "execution_count": 10,
   "id": "d6de96f1",
   "metadata": {},
   "outputs": [
    {
     "data": {
      "text/plain": [
       "100554"
      ]
     },
     "execution_count": 10,
     "metadata": {},
     "output_type": "execute_result"
    }
   ],
   "source": [
    "words= [word[0] for word in brown.tagged_words(categories='news')]\n",
    "len(words)"
   ]
  },
  {
   "cell_type": "code",
   "execution_count": 11,
   "id": "2111a267",
   "metadata": {},
   "outputs": [
    {
     "data": {
      "text/plain": [
       "100554"
      ]
     },
     "execution_count": 11,
     "metadata": {},
     "output_type": "execute_result"
    }
   ],
   "source": [
    "labels= [label[1] for label in brown.tagged_words(categories='news')]\n",
    "len(labels)"
   ]
  },
  {
   "cell_type": "code",
   "execution_count": 12,
   "id": "4e7d9f3c",
   "metadata": {},
   "outputs": [],
   "source": [
    "df= pd.DataFrame()"
   ]
  },
  {
   "cell_type": "code",
   "execution_count": 13,
   "id": "2ac85cac",
   "metadata": {},
   "outputs": [],
   "source": [
    "df[\"words\"]=words\n",
    "df[\"labels\"]=labels"
   ]
  },
  {
   "cell_type": "code",
   "execution_count": 14,
   "id": "5cad8a45",
   "metadata": {},
   "outputs": [
    {
     "data": {
      "text/plain": [
       "(100554, 2)"
      ]
     },
     "execution_count": 14,
     "metadata": {},
     "output_type": "execute_result"
    }
   ],
   "source": [
    "df.shape"
   ]
  },
  {
   "cell_type": "code",
   "execution_count": 15,
   "id": "0e4340f2",
   "metadata": {},
   "outputs": [
    {
     "data": {
      "text/html": [
       "<div>\n",
       "<style scoped>\n",
       "    .dataframe tbody tr th:only-of-type {\n",
       "        vertical-align: middle;\n",
       "    }\n",
       "\n",
       "    .dataframe tbody tr th {\n",
       "        vertical-align: top;\n",
       "    }\n",
       "\n",
       "    .dataframe thead th {\n",
       "        text-align: right;\n",
       "    }\n",
       "</style>\n",
       "<table border=\"1\" class=\"dataframe\">\n",
       "  <thead>\n",
       "    <tr style=\"text-align: right;\">\n",
       "      <th></th>\n",
       "      <th>words</th>\n",
       "      <th>labels</th>\n",
       "    </tr>\n",
       "  </thead>\n",
       "  <tbody>\n",
       "    <tr>\n",
       "      <th>0</th>\n",
       "      <td>The</td>\n",
       "      <td>AT</td>\n",
       "    </tr>\n",
       "    <tr>\n",
       "      <th>1</th>\n",
       "      <td>Fulton</td>\n",
       "      <td>NP-TL</td>\n",
       "    </tr>\n",
       "    <tr>\n",
       "      <th>2</th>\n",
       "      <td>County</td>\n",
       "      <td>NN-TL</td>\n",
       "    </tr>\n",
       "    <tr>\n",
       "      <th>3</th>\n",
       "      <td>Grand</td>\n",
       "      <td>JJ-TL</td>\n",
       "    </tr>\n",
       "    <tr>\n",
       "      <th>4</th>\n",
       "      <td>Jury</td>\n",
       "      <td>NN-TL</td>\n",
       "    </tr>\n",
       "  </tbody>\n",
       "</table>\n",
       "</div>"
      ],
      "text/plain": [
       "    words labels\n",
       "0     The     AT\n",
       "1  Fulton  NP-TL\n",
       "2  County  NN-TL\n",
       "3   Grand  JJ-TL\n",
       "4    Jury  NN-TL"
      ]
     },
     "execution_count": 15,
     "metadata": {},
     "output_type": "execute_result"
    }
   ],
   "source": [
    "df.head()"
   ]
  },
  {
   "cell_type": "code",
   "execution_count": 16,
   "id": "ca61897d",
   "metadata": {},
   "outputs": [
    {
     "data": {
      "text/plain": [
       "array(['AT', 'NP-TL', 'NN-TL', 'JJ-TL', 'VBD', 'NR', 'NN', 'IN', 'NP$',\n",
       "       'JJ', '``', \"''\", 'CS', 'DTI', 'NNS', '.', 'RBR', ',', 'WDT',\n",
       "       'HVD', 'VBZ', 'CC', 'IN-TL', 'BEDZ', 'VBN', 'NP', 'BEN', 'TO',\n",
       "       'VB', 'RB', 'DT', 'PPS', 'DOD', 'AP', 'BER', 'HV', 'DTS', 'VBG',\n",
       "       'PPO', 'QL', 'JJT', 'ABX', 'NN-HL', 'VBN-HL', 'WRB', 'CD', 'MD',\n",
       "       'BE', 'JJR', 'VBG-TL', 'BEZ', 'NN$-TL', 'HVZ', 'ABN', 'PN', 'PPSS',\n",
       "       'PP$', 'DO', 'NN$', 'NNS-HL', 'WPS', '*', 'EX', 'VB-HL', ':', '(',\n",
       "       ')', 'NNS-TL', 'NPS', 'JJS', 'RP', '--', 'BED', 'OD', 'BEG',\n",
       "       'AT-HL', 'VBG-HL', 'AT-TL', 'PPL', 'DOZ', 'NP-HL', 'NR$', 'DOD*',\n",
       "       'BEDZ*', ',-HL', 'CC-TL', 'MD*', 'NNS$', 'PPSS+BER', \"'\",\n",
       "       'PPSS+BEM', 'CD-TL', 'RBT', '(-HL', ')-HL', 'MD-HL', 'VBZ-HL',\n",
       "       'IN-HL', 'JJ-HL', 'PPLS', 'CD-HL', 'WPO', 'JJS-TL', 'ABL',\n",
       "       'BER-HL', 'PPS+HVZ', 'VBD-HL', 'RP-HL', 'MD*-HL', 'AP-HL', 'CS-HL',\n",
       "       'DT$', 'HVN', 'FW-IN', 'FW-DT', 'VBN-TL', 'NR-TL', 'NNS$-TL',\n",
       "       'FW-NN', 'HVG', 'DTX', 'OD-TL', 'BEM', 'RB-HL', 'PPSS+MD',\n",
       "       'NPS-HL', 'NPS$', 'WP$', 'NN-TL-HL', 'CC-HL', 'PPS+BEZ', 'AP-TL',\n",
       "       'UH-TL', 'BEZ-HL', 'TO-HL', 'DO*', 'VBN-TL-HL', 'NNS-TL-HL',\n",
       "       'DT-HL', 'BE-HL', 'DOZ*', 'QLP', 'JJR-HL', 'PPSS+HVD', 'FW-IN+NN',\n",
       "       'PP$$', 'JJT-HL', 'NP-TL-HL', 'NPS-TL', 'MD+HV', 'NP$-TL', 'OD-HL',\n",
       "       'JJR-TL', 'VBD-TL', 'DT+BEZ', 'EX+BEZ', 'PPSS+HV', ':-HL',\n",
       "       'PPS+MD', 'UH', 'FW-CC', 'FW-NNS', 'BEDZ-HL', 'NN$-HL', '.-HL',\n",
       "       'HVD*', 'BEZ*', 'AP$', 'NP+BEZ', 'FW-AT-TL', 'VB-TL', 'RB-TL',\n",
       "       'MD-TL', 'PN+HVZ', 'FW-JJ-TL', 'FW-NN-TL', 'ABN-HL', 'PPS+BEZ-HL',\n",
       "       'NR-HL', 'HVD-HL', 'RB$', 'FW-AT-HL', 'DO-HL', 'PP$-TL',\n",
       "       'FW-IN-TL', 'WPS+BEZ', '*-HL', 'DTI-HL', 'PN-HL', 'CD$', 'BER*',\n",
       "       'NNS$-HL', 'PN$', 'BER-TL', 'TO-TL', 'FW-JJ', 'BED*', 'RB+BEZ',\n",
       "       'VB+PPO', 'PPSS-HL', 'HVZ*', 'FW-IN+NN-TL', 'FW-IN+AT-TL', 'NN-NC',\n",
       "       'JJ-NC', 'NR$-TL', 'FW-PP$-NC', 'FW-VB', 'FW-VB-NC', 'JJR-NC',\n",
       "       'NPS$-TL', 'QL-TL', 'FW-AT', 'FW-*', 'FW-CD', 'WQL', 'FW-WDT',\n",
       "       'WDT+BEZ'], dtype=object)"
      ]
     },
     "execution_count": 16,
     "metadata": {},
     "output_type": "execute_result"
    }
   ],
   "source": [
    "df[\"labels\"].unique()"
   ]
  },
  {
   "cell_type": "code",
   "execution_count": 17,
   "id": "2f22b2cd",
   "metadata": {},
   "outputs": [
    {
     "data": {
      "text/plain": [
       "218"
      ]
     },
     "execution_count": 17,
     "metadata": {},
     "output_type": "execute_result"
    }
   ],
   "source": [
    "df[\"labels\"].nunique()"
   ]
  },
  {
   "cell_type": "markdown",
   "id": "b156fd20",
   "metadata": {},
   "source": [
    "# --------------------------------------"
   ]
  },
  {
   "cell_type": "code",
   "execution_count": 18,
   "id": "9ea421a4",
   "metadata": {},
   "outputs": [
    {
     "data": {
      "text/plain": [
       "[['The', 'Fulton', 'County', 'Grand', 'Jury', 'said', 'Friday', 'an', 'investigation', 'of', \"Atlanta's\", 'recent', 'primary', 'election', 'produced', '``', 'no', 'evidence', \"''\", 'that', 'any', 'irregularities', 'took', 'place', '.'], ['The', 'jury', 'further', 'said', 'in', 'term-end', 'presentments', 'that', 'the', 'City', 'Executive', 'Committee', ',', 'which', 'had', 'over-all', 'charge', 'of', 'the', 'election', ',', '``', 'deserves', 'the', 'praise', 'and', 'thanks', 'of', 'the', 'City', 'of', 'Atlanta', \"''\", 'for', 'the', 'manner', 'in', 'which', 'the', 'election', 'was', 'conducted', '.'], ...]"
      ]
     },
     "execution_count": 18,
     "metadata": {},
     "output_type": "execute_result"
    }
   ],
   "source": [
    "brown.sents(categories=\"news\")"
   ]
  },
  {
   "cell_type": "code",
   "execution_count": 19,
   "id": "2c51f514",
   "metadata": {},
   "outputs": [
    {
     "data": {
      "text/plain": [
       "4623"
      ]
     },
     "execution_count": 19,
     "metadata": {},
     "output_type": "execute_result"
    }
   ],
   "source": [
    "len(brown.sents(categories=\"news\"))"
   ]
  },
  {
   "cell_type": "code",
   "execution_count": 20,
   "id": "4b47bba2",
   "metadata": {},
   "outputs": [],
   "source": [
    "brown_sentences= [ \" \".join(sentence) for sentence in brown.sents(categories=\"news\") ]"
   ]
  },
  {
   "cell_type": "code",
   "execution_count": 21,
   "id": "7dccf27e",
   "metadata": {},
   "outputs": [
    {
     "data": {
      "text/plain": [
       "[\"The Fulton County Grand Jury said Friday an investigation of Atlanta's recent primary election produced `` no evidence '' that any irregularities took place .\",\n",
       " \"The jury further said in term-end presentments that the City Executive Committee , which had over-all charge of the election , `` deserves the praise and thanks of the City of Atlanta '' for the manner in which the election was conducted .\",\n",
       " \"The September-October term jury had been charged by Fulton Superior Court Judge Durwood Pye to investigate reports of possible `` irregularities '' in the hard-fought primary which was won by Mayor-nominate Ivan Allen Jr. .\",\n",
       " \"`` Only a relative handful of such reports was received '' , the jury said , `` considering the widespread interest in the election , the number of voters and the size of this city '' .\",\n",
       " \"The jury said it did find that many of Georgia's registration and election laws `` are outmoded or inadequate and often ambiguous '' .\",\n",
       " \"It recommended that Fulton legislators act `` to have these laws studied and revised to the end of modernizing and improving them '' .\",\n",
       " \"The grand jury commented on a number of other topics , among them the Atlanta and Fulton County purchasing departments which it said `` are well operated and follow generally accepted practices which inure to the best interest of both governments '' .\",\n",
       " 'Merger proposed',\n",
       " \"However , the jury said it believes `` these two offices should be combined to achieve greater efficiency and reduce the cost of administration '' .\",\n",
       " \"The City Purchasing Department , the jury said , `` is lacking in experienced clerical personnel as a result of city personnel policies '' .\"]"
      ]
     },
     "execution_count": 21,
     "metadata": {},
     "output_type": "execute_result"
    }
   ],
   "source": [
    "brown_sentences[:10]"
   ]
  },
  {
   "cell_type": "code",
   "execution_count": 22,
   "id": "f1d10793",
   "metadata": {},
   "outputs": [],
   "source": [
    "brown_tags = [ {word.text: word.pos_ for word in pos(sentence)} for sentence in brown_sentences]"
   ]
  },
  {
   "cell_type": "code",
   "execution_count": 23,
   "id": "70be47b1",
   "metadata": {},
   "outputs": [
    {
     "data": {
      "text/plain": [
       "{'The': 'DET',\n",
       " 'Fulton': 'PROPN',\n",
       " 'County': 'PROPN',\n",
       " 'Grand': 'PROPN',\n",
       " 'Jury': 'PROPN',\n",
       " 'said': 'VERB',\n",
       " 'Friday': 'PROPN',\n",
       " 'an': 'DET',\n",
       " 'investigation': 'NOUN',\n",
       " 'of': 'ADP',\n",
       " 'Atlanta': 'PROPN',\n",
       " \"'s\": 'PART',\n",
       " 'recent': 'ADJ',\n",
       " 'primary': 'ADJ',\n",
       " 'election': 'NOUN',\n",
       " 'produced': 'VERB',\n",
       " '`': 'PUNCT',\n",
       " 'no': 'DET',\n",
       " 'evidence': 'NOUN',\n",
       " \"''\": 'PUNCT',\n",
       " 'that': 'SCONJ',\n",
       " 'any': 'DET',\n",
       " 'irregularities': 'NOUN',\n",
       " 'took': 'VERB',\n",
       " 'place': 'NOUN',\n",
       " '.': 'PUNCT'}"
      ]
     },
     "execution_count": 23,
     "metadata": {},
     "output_type": "execute_result"
    }
   ],
   "source": [
    "brown_tags[0]"
   ]
  },
  {
   "cell_type": "markdown",
   "id": "d5fe8c5b",
   "metadata": {},
   "source": [
    "### building vocabulary"
   ]
  },
  {
   "cell_type": "code",
   "execution_count": 24,
   "id": "e506154e",
   "metadata": {},
   "outputs": [],
   "source": [
    "words = set()\n",
    "tags = set()"
   ]
  },
  {
   "cell_type": "code",
   "execution_count": 25,
   "id": "41f6b847",
   "metadata": {},
   "outputs": [],
   "source": [
    "words = [word for sentence in brown_tags for word in sentence.keys() ]\n",
    "tags = [tag for sentence in brown_tags for tag in sentence.values()]"
   ]
  },
  {
   "cell_type": "code",
   "execution_count": 26,
   "id": "85b01193",
   "metadata": {},
   "outputs": [
    {
     "data": {
      "text/plain": [
       "92275"
      ]
     },
     "execution_count": 26,
     "metadata": {},
     "output_type": "execute_result"
    }
   ],
   "source": [
    "len(words)"
   ]
  },
  {
   "cell_type": "code",
   "execution_count": 27,
   "id": "708f1800",
   "metadata": {},
   "outputs": [],
   "source": [
    "unique_words=sorted(list(set(words)))"
   ]
  },
  {
   "cell_type": "code",
   "execution_count": 28,
   "id": "d92bd08e",
   "metadata": {},
   "outputs": [
    {
     "data": {
      "text/plain": [
       "['!', '$', '%', '&', \"'\", \"''\", \"'d\", \"'em\", \"'ll\", \"'m\"]"
      ]
     },
     "execution_count": 28,
     "metadata": {},
     "output_type": "execute_result"
    }
   ],
   "source": [
    "unique_words[:10]"
   ]
  },
  {
   "cell_type": "code",
   "execution_count": 29,
   "id": "0c36caba",
   "metadata": {},
   "outputs": [
    {
     "data": {
      "text/plain": [
       "13407"
      ]
     },
     "execution_count": 29,
     "metadata": {},
     "output_type": "execute_result"
    }
   ],
   "source": [
    "len(unique_words)"
   ]
  },
  {
   "cell_type": "code",
   "execution_count": 30,
   "id": "ebf42dc8",
   "metadata": {},
   "outputs": [
    {
     "data": {
      "text/plain": [
       "578"
      ]
     },
     "execution_count": 30,
     "metadata": {},
     "output_type": "execute_result"
    }
   ],
   "source": [
    "unique_words.index(\"9th\")"
   ]
  },
  {
   "cell_type": "code",
   "execution_count": 31,
   "id": "a3fd7ad5",
   "metadata": {},
   "outputs": [
    {
     "data": {
      "text/plain": [
       "21"
      ]
     },
     "execution_count": 31,
     "metadata": {},
     "output_type": "execute_result"
    }
   ],
   "source": [
    "unique_words.index(\"1,000\")"
   ]
  },
  {
   "cell_type": "code",
   "execution_count": 32,
   "id": "830d11bb",
   "metadata": {},
   "outputs": [
    {
     "data": {
      "text/plain": [
       "12850"
      ]
     },
     "execution_count": 32,
     "metadata": {},
     "output_type": "execute_result"
    }
   ],
   "source": [
    "del unique_words[21:578]\n",
    "len(unique_words)"
   ]
  },
  {
   "cell_type": "code",
   "execution_count": 33,
   "id": "15c75810",
   "metadata": {},
   "outputs": [],
   "source": [
    "unique_words_id = { j:i for i,j in enumerate(unique_words)}"
   ]
  },
  {
   "cell_type": "code",
   "execution_count": 38,
   "id": "e9f051b9",
   "metadata": {},
   "outputs": [
    {
     "data": {
      "text/plain": [
       "[('!', 0),\n",
       " ('$', 1),\n",
       " ('%', 2),\n",
       " ('&', 3),\n",
       " (\"'\", 4),\n",
       " (\"''\", 5),\n",
       " (\"'d\", 6),\n",
       " (\"'em\", 7),\n",
       " (\"'ll\", 8),\n",
       " (\"'m\", 9)]"
      ]
     },
     "execution_count": 38,
     "metadata": {},
     "output_type": "execute_result"
    }
   ],
   "source": [
    "list(unique_words_id.items())[:10]"
   ]
  },
  {
   "cell_type": "code",
   "execution_count": null,
   "id": "122b78ab",
   "metadata": {},
   "outputs": [],
   "source": []
  },
  {
   "cell_type": "code",
   "execution_count": 39,
   "id": "1e321d54",
   "metadata": {},
   "outputs": [
    {
     "data": {
      "text/plain": [
       "['ADJ',\n",
       " 'ADP',\n",
       " 'ADV',\n",
       " 'AUX',\n",
       " 'CCONJ',\n",
       " 'DET',\n",
       " 'INTJ',\n",
       " 'NOUN',\n",
       " 'NUM',\n",
       " 'PART',\n",
       " 'PRON',\n",
       " 'PROPN',\n",
       " 'PUNCT',\n",
       " 'SCONJ',\n",
       " 'SYM',\n",
       " 'VERB',\n",
       " 'X']"
      ]
     },
     "execution_count": 39,
     "metadata": {},
     "output_type": "execute_result"
    }
   ],
   "source": [
    "unique_tags=sorted(list(set(tags)))\n",
    "unique_tags"
   ]
  },
  {
   "cell_type": "code",
   "execution_count": 40,
   "id": "eb81f0e8",
   "metadata": {},
   "outputs": [],
   "source": [
    "unique_tags_id = { j:i for i,j in enumerate(unique_tags)}"
   ]
  },
  {
   "cell_type": "code",
   "execution_count": 41,
   "id": "7c79275d",
   "metadata": {},
   "outputs": [
    {
     "data": {
      "text/plain": [
       "{'ADJ': 0,\n",
       " 'ADP': 1,\n",
       " 'ADV': 2,\n",
       " 'AUX': 3,\n",
       " 'CCONJ': 4,\n",
       " 'DET': 5,\n",
       " 'INTJ': 6,\n",
       " 'NOUN': 7,\n",
       " 'NUM': 8,\n",
       " 'PART': 9,\n",
       " 'PRON': 10,\n",
       " 'PROPN': 11,\n",
       " 'PUNCT': 12,\n",
       " 'SCONJ': 13,\n",
       " 'SYM': 14,\n",
       " 'VERB': 15,\n",
       " 'X': 16}"
      ]
     },
     "execution_count": 41,
     "metadata": {},
     "output_type": "execute_result"
    }
   ],
   "source": [
    "unique_tags_id"
   ]
  },
  {
   "cell_type": "code",
   "execution_count": null,
   "id": "c2cf27bc",
   "metadata": {},
   "outputs": [],
   "source": []
  },
  {
   "cell_type": "code",
   "execution_count": null,
   "id": "e0726555",
   "metadata": {},
   "outputs": [],
   "source": []
  },
  {
   "cell_type": "code",
   "execution_count": 42,
   "id": "a5e7379d",
   "metadata": {},
   "outputs": [
    {
     "data": {
      "text/plain": [
       "hi , I am srinivas"
      ]
     },
     "execution_count": 42,
     "metadata": {},
     "output_type": "execute_result"
    }
   ],
   "source": [
    "sample= \"hi , I am srinivas\"\n",
    "pos(sample)"
   ]
  },
  {
   "cell_type": "code",
   "execution_count": 43,
   "id": "641614bb",
   "metadata": {},
   "outputs": [
    {
     "data": {
      "text/plain": [
       "12364"
      ]
     },
     "execution_count": 43,
     "metadata": {},
     "output_type": "execute_result"
    }
   ],
   "source": [
    "unique_words_id[\"unknown\"]"
   ]
  },
  {
   "cell_type": "code",
   "execution_count": null,
   "id": "9bcc8df6",
   "metadata": {},
   "outputs": [],
   "source": []
  },
  {
   "cell_type": "code",
   "execution_count": null,
   "id": "bccc532d",
   "metadata": {},
   "outputs": [],
   "source": []
  },
  {
   "cell_type": "markdown",
   "id": "60041349",
   "metadata": {},
   "source": [
    "### Final Vocabulary"
   ]
  },
  {
   "cell_type": "code",
   "execution_count": 44,
   "id": "b6c1f6f3",
   "metadata": {},
   "outputs": [
    {
     "data": {
      "text/plain": [
       "[{'!': 'PUNCT'}, {'$': 'SYM'}, {'%': 'NOUN'}, {'&': 'CCONJ'}]"
      ]
     },
     "execution_count": 44,
     "metadata": {},
     "output_type": "execute_result"
    }
   ],
   "source": [
    "[{sample.text:sample.pos_} for sample in pos(\" \".join(unique_words))][:4]"
   ]
  },
  {
   "cell_type": "code",
   "execution_count": null,
   "id": "fa4d09e4",
   "metadata": {},
   "outputs": [],
   "source": []
  },
  {
   "cell_type": "code",
   "execution_count": 45,
   "id": "fe89b5f7",
   "metadata": {},
   "outputs": [],
   "source": [
    "merge_brown_tags={}\n",
    "for d in brown_tags:\n",
    "    merge_brown_tags.update(d)"
   ]
  },
  {
   "cell_type": "code",
   "execution_count": 47,
   "id": "b8622001",
   "metadata": {},
   "outputs": [
    {
     "data": {
      "text/plain": [
       "[('The', 'DET'),\n",
       " ('Fulton', 'PROPN'),\n",
       " ('County', 'PROPN'),\n",
       " ('Grand', 'PROPN'),\n",
       " ('Jury', 'PROPN'),\n",
       " ('said', 'VERB'),\n",
       " ('Friday', 'PROPN'),\n",
       " ('an', 'DET'),\n",
       " ('investigation', 'NOUN'),\n",
       " ('of', 'ADP')]"
      ]
     },
     "execution_count": 47,
     "metadata": {},
     "output_type": "execute_result"
    }
   ],
   "source": [
    "list(merge_brown_tags.items())[:10]"
   ]
  },
  {
   "cell_type": "code",
   "execution_count": null,
   "id": "6391abfc",
   "metadata": {},
   "outputs": [],
   "source": []
  },
  {
   "cell_type": "code",
   "execution_count": 48,
   "id": "e9e3f320",
   "metadata": {},
   "outputs": [
    {
     "data": {
      "text/plain": [
       "[\"The Fulton County Grand Jury said Friday an investigation of Atlanta's recent primary election produced `` no evidence '' that any irregularities took place .\",\n",
       " \"The jury further said in term-end presentments that the City Executive Committee , which had over-all charge of the election , `` deserves the praise and thanks of the City of Atlanta '' for the manner in which the election was conducted .\",\n",
       " \"The September-October term jury had been charged by Fulton Superior Court Judge Durwood Pye to investigate reports of possible `` irregularities '' in the hard-fought primary which was won by Mayor-nominate Ivan Allen Jr. .\",\n",
       " \"`` Only a relative handful of such reports was received '' , the jury said , `` considering the widespread interest in the election , the number of voters and the size of this city '' .\"]"
      ]
     },
     "execution_count": 48,
     "metadata": {},
     "output_type": "execute_result"
    }
   ],
   "source": [
    "brown_sentences[:4]"
   ]
  },
  {
   "cell_type": "code",
   "execution_count": 49,
   "id": "06c8f762",
   "metadata": {},
   "outputs": [
    {
     "data": {
      "text/plain": [
       "[{'The': 'DET',\n",
       "  'Fulton': 'PROPN',\n",
       "  'County': 'PROPN',\n",
       "  'Grand': 'PROPN',\n",
       "  'Jury': 'PROPN',\n",
       "  'said': 'VERB',\n",
       "  'Friday': 'PROPN',\n",
       "  'an': 'DET',\n",
       "  'investigation': 'NOUN',\n",
       "  'of': 'ADP',\n",
       "  'Atlanta': 'PROPN',\n",
       "  \"'s\": 'PART',\n",
       "  'recent': 'ADJ',\n",
       "  'primary': 'ADJ',\n",
       "  'election': 'NOUN',\n",
       "  'produced': 'VERB',\n",
       "  '`': 'PUNCT',\n",
       "  'no': 'DET',\n",
       "  'evidence': 'NOUN',\n",
       "  \"''\": 'PUNCT',\n",
       "  'that': 'SCONJ',\n",
       "  'any': 'DET',\n",
       "  'irregularities': 'NOUN',\n",
       "  'took': 'VERB',\n",
       "  'place': 'NOUN',\n",
       "  '.': 'PUNCT'},\n",
       " {'The': 'DET',\n",
       "  'jury': 'NOUN',\n",
       "  'further': 'ADV',\n",
       "  'said': 'VERB',\n",
       "  'in': 'ADP',\n",
       "  'term': 'NOUN',\n",
       "  '-': 'PUNCT',\n",
       "  'end': 'NOUN',\n",
       "  'presentments': 'NOUN',\n",
       "  'that': 'SCONJ',\n",
       "  'the': 'DET',\n",
       "  'City': 'PROPN',\n",
       "  'Executive': 'PROPN',\n",
       "  'Committee': 'PROPN',\n",
       "  ',': 'PUNCT',\n",
       "  'which': 'PRON',\n",
       "  'had': 'VERB',\n",
       "  'over': 'ADP',\n",
       "  'all': 'PRON',\n",
       "  'charge': 'NOUN',\n",
       "  'of': 'ADP',\n",
       "  'election': 'NOUN',\n",
       "  '`': 'PUNCT',\n",
       "  'deserves': 'VERB',\n",
       "  'praise': 'NOUN',\n",
       "  'and': 'CCONJ',\n",
       "  'thanks': 'NOUN',\n",
       "  'Atlanta': 'PROPN',\n",
       "  \"''\": 'PUNCT',\n",
       "  'for': 'ADP',\n",
       "  'manner': 'NOUN',\n",
       "  'was': 'AUX',\n",
       "  'conducted': 'VERB',\n",
       "  '.': 'PUNCT'},\n",
       " {'The': 'DET',\n",
       "  'September': 'PROPN',\n",
       "  '-': 'PUNCT',\n",
       "  'October': 'PROPN',\n",
       "  'term': 'NOUN',\n",
       "  'jury': 'NOUN',\n",
       "  'had': 'AUX',\n",
       "  'been': 'AUX',\n",
       "  'charged': 'VERB',\n",
       "  'by': 'ADP',\n",
       "  'Fulton': 'PROPN',\n",
       "  'Superior': 'PROPN',\n",
       "  'Court': 'PROPN',\n",
       "  'Judge': 'PROPN',\n",
       "  'Durwood': 'PROPN',\n",
       "  'Pye': 'PROPN',\n",
       "  'to': 'PART',\n",
       "  'investigate': 'VERB',\n",
       "  'reports': 'NOUN',\n",
       "  'of': 'ADP',\n",
       "  'possible': 'ADJ',\n",
       "  '`': 'PUNCT',\n",
       "  'irregularities': 'NOUN',\n",
       "  \"''\": 'PUNCT',\n",
       "  'in': 'ADP',\n",
       "  'the': 'DET',\n",
       "  'hard': 'ADV',\n",
       "  'fought': 'VERB',\n",
       "  'primary': 'NOUN',\n",
       "  'which': 'PRON',\n",
       "  'was': 'AUX',\n",
       "  'won': 'VERB',\n",
       "  'Mayor': 'PROPN',\n",
       "  'nominate': 'NOUN',\n",
       "  'Ivan': 'PROPN',\n",
       "  'Allen': 'PROPN',\n",
       "  'Jr.': 'PROPN',\n",
       "  '.': 'PUNCT'},\n",
       " {'`': 'PUNCT',\n",
       "  'Only': 'ADV',\n",
       "  'a': 'DET',\n",
       "  'relative': 'ADJ',\n",
       "  'handful': 'NOUN',\n",
       "  'of': 'ADP',\n",
       "  'such': 'ADJ',\n",
       "  'reports': 'NOUN',\n",
       "  'was': 'AUX',\n",
       "  'received': 'VERB',\n",
       "  \"''\": 'PUNCT',\n",
       "  ',': 'PUNCT',\n",
       "  'the': 'DET',\n",
       "  'jury': 'NOUN',\n",
       "  'said': 'VERB',\n",
       "  'considering': 'VERB',\n",
       "  'widespread': 'ADJ',\n",
       "  'interest': 'NOUN',\n",
       "  'in': 'ADP',\n",
       "  'election': 'NOUN',\n",
       "  'number': 'NOUN',\n",
       "  'voters': 'NOUN',\n",
       "  'and': 'CCONJ',\n",
       "  'size': 'NOUN',\n",
       "  'this': 'DET',\n",
       "  'city': 'NOUN',\n",
       "  '.': 'PUNCT'}]"
      ]
     },
     "execution_count": 49,
     "metadata": {},
     "output_type": "execute_result"
    }
   ],
   "source": [
    "brown_tags[:4]"
   ]
  },
  {
   "cell_type": "code",
   "execution_count": 50,
   "id": "b46b8596",
   "metadata": {},
   "outputs": [],
   "source": [
    "brown_tags_sentences = [[tag.pos_ for tag in pos(sentence)] for sentence in brown_sentences]"
   ]
  },
  {
   "cell_type": "code",
   "execution_count": 58,
   "id": "8ecae3bf",
   "metadata": {
    "scrolled": true
   },
   "outputs": [
    {
     "data": {
      "text/plain": [
       "[['DET',\n",
       "  'PROPN',\n",
       "  'PROPN',\n",
       "  'PROPN',\n",
       "  'PROPN',\n",
       "  'VERB',\n",
       "  'PROPN',\n",
       "  'DET',\n",
       "  'NOUN',\n",
       "  'ADP',\n",
       "  'PROPN',\n",
       "  'PART',\n",
       "  'ADJ',\n",
       "  'ADJ',\n",
       "  'NOUN',\n",
       "  'VERB',\n",
       "  'PUNCT',\n",
       "  'PUNCT',\n",
       "  'DET',\n",
       "  'NOUN',\n",
       "  'PUNCT',\n",
       "  'SCONJ',\n",
       "  'DET',\n",
       "  'NOUN',\n",
       "  'VERB',\n",
       "  'NOUN',\n",
       "  'PUNCT'],\n",
       " ['DET',\n",
       "  'NOUN',\n",
       "  'ADV',\n",
       "  'VERB',\n",
       "  'ADP',\n",
       "  'NOUN',\n",
       "  'PUNCT',\n",
       "  'NOUN',\n",
       "  'NOUN',\n",
       "  'SCONJ',\n",
       "  'DET',\n",
       "  'PROPN',\n",
       "  'PROPN',\n",
       "  'PROPN',\n",
       "  'PUNCT',\n",
       "  'PRON',\n",
       "  'VERB',\n",
       "  'ADP',\n",
       "  'PUNCT',\n",
       "  'PRON',\n",
       "  'NOUN',\n",
       "  'ADP',\n",
       "  'DET',\n",
       "  'NOUN',\n",
       "  'PUNCT',\n",
       "  'PUNCT',\n",
       "  'PUNCT',\n",
       "  'VERB',\n",
       "  'DET',\n",
       "  'NOUN',\n",
       "  'CCONJ',\n",
       "  'NOUN',\n",
       "  'ADP',\n",
       "  'DET',\n",
       "  'PROPN',\n",
       "  'ADP',\n",
       "  'PROPN',\n",
       "  'PUNCT',\n",
       "  'ADP',\n",
       "  'DET',\n",
       "  'NOUN',\n",
       "  'ADP',\n",
       "  'PRON',\n",
       "  'DET',\n",
       "  'NOUN',\n",
       "  'AUX',\n",
       "  'VERB',\n",
       "  'PUNCT']]"
      ]
     },
     "execution_count": 58,
     "metadata": {},
     "output_type": "execute_result"
    }
   ],
   "source": [
    "brown_tags_sentences[:2]"
   ]
  },
  {
   "cell_type": "markdown",
   "id": "6e4f1c7c",
   "metadata": {},
   "source": [
    "### Indexing based on vocabulary built on unique (english words and  pos tags)"
   ]
  },
  {
   "cell_type": "code",
   "execution_count": 52,
   "id": "6cc7e51b",
   "metadata": {},
   "outputs": [],
   "source": [
    "def index_sentences(sentence,tags):\n",
    "    return [unique_words_id[word] if word in unique_words else unique_words_id[\"unknown\"] for word in sentence.split() ] , [ unique_tags_id [tag] for tag in tags]"
   ]
  },
  {
   "cell_type": "code",
   "execution_count": 53,
   "id": "a53fa809",
   "metadata": {},
   "outputs": [
    {
     "data": {
      "text/plain": [
       "hi , I am srinivas"
      ]
     },
     "execution_count": 53,
     "metadata": {},
     "output_type": "execute_result"
    }
   ],
   "source": [
    "sample= \"hi , I am srinivas\"\n",
    "pos(sample)"
   ]
  },
  {
   "cell_type": "code",
   "execution_count": 54,
   "id": "93259959",
   "metadata": {},
   "outputs": [
    {
     "data": {
      "text/plain": [
       "([12364, 15, 1894, 4566, 12364], [6, 12, 10, 3, 0])"
      ]
     },
     "execution_count": 54,
     "metadata": {},
     "output_type": "execute_result"
    }
   ],
   "source": [
    "index_sentences( sample , [i.pos_ for i in pos(sample)] )"
   ]
  },
  {
   "cell_type": "code",
   "execution_count": 55,
   "id": "eb42daaf",
   "metadata": {},
   "outputs": [],
   "source": [
    "id_brown_sentences=[]\n",
    "id_brown_tags_sentences=[]\n",
    "\n",
    "for i,j in zip(brown_sentences,brown_tags_sentences):\n",
    "    a,b = index_sentences(i,j)\n",
    "    id_brown_sentences.append(a)\n",
    "    id_brown_tags_sentences.append(b)"
   ]
  },
  {
   "cell_type": "code",
   "execution_count": 56,
   "id": "9f63a1ab",
   "metadata": {},
   "outputs": [
    {
     "data": {
      "text/plain": [
       "[[3851,\n",
       "  1495,\n",
       "  964,\n",
       "  1630,\n",
       "  2068,\n",
       "  10836,\n",
       "  1483,\n",
       "  4589,\n",
       "  8368,\n",
       "  9384,\n",
       "  12364,\n",
       "  10393,\n",
       "  10050,\n",
       "  6802,\n",
       "  10093,\n",
       "  12364,\n",
       "  9275,\n",
       "  7031,\n",
       "  5,\n",
       "  11969,\n",
       "  4629,\n",
       "  8393,\n",
       "  12095,\n",
       "  9825,\n",
       "  18],\n",
       " [3851,\n",
       "  8462,\n",
       "  7564,\n",
       "  10836,\n",
       "  8146,\n",
       "  12364,\n",
       "  10012,\n",
       "  11969,\n",
       "  11970,\n",
       "  799,\n",
       "  1327,\n",
       "  869,\n",
       "  15,\n",
       "  12681,\n",
       "  7804,\n",
       "  12364,\n",
       "  5518,\n",
       "  9384,\n",
       "  11970,\n",
       "  6802,\n",
       "  15,\n",
       "  12364,\n",
       "  6410,\n",
       "  11970,\n",
       "  9965,\n",
       "  4593,\n",
       "  11968,\n",
       "  9384,\n",
       "  11970,\n",
       "  799,\n",
       "  9384,\n",
       "  260,\n",
       "  5,\n",
       "  7427,\n",
       "  11970,\n",
       "  8854,\n",
       "  8146,\n",
       "  12681,\n",
       "  11970,\n",
       "  6802,\n",
       "  12615,\n",
       "  5856,\n",
       "  18],\n",
       " [3851,\n",
       "  12364,\n",
       "  11945,\n",
       "  8462,\n",
       "  7804,\n",
       "  5001,\n",
       "  5519,\n",
       "  5332,\n",
       "  1495,\n",
       "  3767,\n",
       "  967,\n",
       "  2057,\n",
       "  1196,\n",
       "  3156,\n",
       "  12072,\n",
       "  8365,\n",
       "  10570,\n",
       "  9384,\n",
       "  9935,\n",
       "  12364,\n",
       "  8393,\n",
       "  5,\n",
       "  8146,\n",
       "  11970,\n",
       "  12364,\n",
       "  10050,\n",
       "  12681,\n",
       "  12615,\n",
       "  12757,\n",
       "  5332,\n",
       "  12364,\n",
       "  1990,\n",
       "  129,\n",
       "  2055,\n",
       "  18],\n",
       " [12364,\n",
       "  2860,\n",
       "  4286,\n",
       "  10494,\n",
       "  7826,\n",
       "  9384,\n",
       "  11710,\n",
       "  10570,\n",
       "  12615,\n",
       "  10390,\n",
       "  5,\n",
       "  15,\n",
       "  11970,\n",
       "  8462,\n",
       "  10836,\n",
       "  15,\n",
       "  12364,\n",
       "  5911,\n",
       "  11970,\n",
       "  12704,\n",
       "  8322,\n",
       "  8146,\n",
       "  11970,\n",
       "  6802,\n",
       "  15,\n",
       "  11970,\n",
       "  9333,\n",
       "  9384,\n",
       "  12558,\n",
       "  4593,\n",
       "  11970,\n",
       "  11196,\n",
       "  9384,\n",
       "  12003,\n",
       "  5596,\n",
       "  5,\n",
       "  18]]"
      ]
     },
     "execution_count": 56,
     "metadata": {},
     "output_type": "execute_result"
    }
   ],
   "source": [
    "id_brown_sentences[:4]"
   ]
  },
  {
   "cell_type": "code",
   "execution_count": 57,
   "id": "1f997686",
   "metadata": {},
   "outputs": [
    {
     "data": {
      "text/plain": [
       "[[5,\n",
       "  11,\n",
       "  11,\n",
       "  11,\n",
       "  11,\n",
       "  15,\n",
       "  11,\n",
       "  5,\n",
       "  7,\n",
       "  1,\n",
       "  11,\n",
       "  9,\n",
       "  0,\n",
       "  0,\n",
       "  7,\n",
       "  15,\n",
       "  12,\n",
       "  12,\n",
       "  5,\n",
       "  7,\n",
       "  12,\n",
       "  13,\n",
       "  5,\n",
       "  7,\n",
       "  15,\n",
       "  7,\n",
       "  12],\n",
       " [5,\n",
       "  7,\n",
       "  2,\n",
       "  15,\n",
       "  1,\n",
       "  7,\n",
       "  12,\n",
       "  7,\n",
       "  7,\n",
       "  13,\n",
       "  5,\n",
       "  11,\n",
       "  11,\n",
       "  11,\n",
       "  12,\n",
       "  10,\n",
       "  15,\n",
       "  1,\n",
       "  12,\n",
       "  10,\n",
       "  7,\n",
       "  1,\n",
       "  5,\n",
       "  7,\n",
       "  12,\n",
       "  12,\n",
       "  12,\n",
       "  15,\n",
       "  5,\n",
       "  7,\n",
       "  4,\n",
       "  7,\n",
       "  1,\n",
       "  5,\n",
       "  11,\n",
       "  1,\n",
       "  11,\n",
       "  12,\n",
       "  1,\n",
       "  5,\n",
       "  7,\n",
       "  1,\n",
       "  10,\n",
       "  5,\n",
       "  7,\n",
       "  3,\n",
       "  15,\n",
       "  12],\n",
       " [5,\n",
       "  11,\n",
       "  12,\n",
       "  11,\n",
       "  7,\n",
       "  7,\n",
       "  3,\n",
       "  3,\n",
       "  15,\n",
       "  1,\n",
       "  11,\n",
       "  11,\n",
       "  11,\n",
       "  11,\n",
       "  11,\n",
       "  11,\n",
       "  9,\n",
       "  15,\n",
       "  7,\n",
       "  1,\n",
       "  0,\n",
       "  12,\n",
       "  12,\n",
       "  7,\n",
       "  12,\n",
       "  1,\n",
       "  5,\n",
       "  2,\n",
       "  12,\n",
       "  15,\n",
       "  7,\n",
       "  10,\n",
       "  3,\n",
       "  15,\n",
       "  1,\n",
       "  11,\n",
       "  12,\n",
       "  7,\n",
       "  11,\n",
       "  11,\n",
       "  11,\n",
       "  12],\n",
       " [12,\n",
       "  12,\n",
       "  2,\n",
       "  5,\n",
       "  0,\n",
       "  7,\n",
       "  1,\n",
       "  0,\n",
       "  7,\n",
       "  3,\n",
       "  15,\n",
       "  12,\n",
       "  12,\n",
       "  5,\n",
       "  7,\n",
       "  15,\n",
       "  12,\n",
       "  12,\n",
       "  12,\n",
       "  15,\n",
       "  5,\n",
       "  0,\n",
       "  7,\n",
       "  1,\n",
       "  5,\n",
       "  7,\n",
       "  12,\n",
       "  5,\n",
       "  7,\n",
       "  1,\n",
       "  7,\n",
       "  4,\n",
       "  5,\n",
       "  7,\n",
       "  1,\n",
       "  5,\n",
       "  7,\n",
       "  12,\n",
       "  12]]"
      ]
     },
     "execution_count": 57,
     "metadata": {},
     "output_type": "execute_result"
    }
   ],
   "source": [
    "id_brown_tags_sentences[:4]"
   ]
  },
  {
   "cell_type": "code",
   "execution_count": null,
   "id": "4c0a7db3",
   "metadata": {},
   "outputs": [],
   "source": []
  },
  {
   "cell_type": "code",
   "execution_count": 59,
   "id": "4e965044",
   "metadata": {},
   "outputs": [],
   "source": [
    "class model(nn.Module):\n",
    "    def __init__(self,vocab_size,embedding_size,output_size,hidden_units):\n",
    "        super().__init__()\n",
    "        self.embeddings = nn.Embedding(vocab_size,embedding_size)\n",
    "        self.lstm = nn.LSTM(embedding_size, hidden_units , batch_first=True)\n",
    "        self.final = nn.Linear(hidden_units,output_size)\n",
    "        \n",
    "    def forward(self,x):\n",
    "        y=self.embeddings(x)\n",
    "        y,_=self.lstm(y)\n",
    "        y=self.final(y)\n",
    "        y=torch.log_softmax(y, dim=2)\n",
    "        return y"
   ]
  },
  {
   "cell_type": "code",
   "execution_count": null,
   "id": "acba5c75",
   "metadata": {},
   "outputs": [],
   "source": []
  },
  {
   "cell_type": "code",
   "execution_count": 60,
   "id": "518349e5",
   "metadata": {},
   "outputs": [],
   "source": [
    "vocab_size = len(unique_words)\n",
    "embedding_size = 128\n",
    "output_size = len(unique_tags)\n",
    "hidden_units = 256"
   ]
  },
  {
   "cell_type": "code",
   "execution_count": 61,
   "id": "cb1d005b",
   "metadata": {},
   "outputs": [],
   "source": [
    "lstm = model(vocab_size,embedding_size,output_size,hidden_units)"
   ]
  },
  {
   "cell_type": "code",
   "execution_count": 62,
   "id": "0aa701f9",
   "metadata": {},
   "outputs": [],
   "source": [
    "class posdata(Dataset):\n",
    "    def __init__(self,sentences,tags):\n",
    "        self.sentences = sentences\n",
    "        self.tags = tags\n",
    "        \n",
    "    def __len__(self):\n",
    "        return len(self.sentences)\n",
    "    \n",
    "    def __getitem__(self,id_):\n",
    "        return torch.tensor(self.sentences[id_], dtype=torch.long), torch.tensor(self.tags[id_], dtype=torch.long)"
   ]
  },
  {
   "cell_type": "code",
   "execution_count": 63,
   "id": "3cedeedb",
   "metadata": {},
   "outputs": [],
   "source": [
    "df = posdata(id_brown_sentences , id_brown_tags_sentences)"
   ]
  },
  {
   "cell_type": "code",
   "execution_count": 64,
   "id": "fbec6640",
   "metadata": {},
   "outputs": [],
   "source": [
    "def custom_collate_fn(batch):\n",
    "    sequences, labels = zip(*batch)\n",
    "    \n",
    "    padded_sequences = pad_sequence(sequences, batch_first=True, padding_value=0)\n",
    "    padded_labels = pad_sequence(labels, batch_first=True, padding_value=-1)\n",
    "    \n",
    "    sequence_lengths = torch.tensor([len(seq) for seq in sequences], dtype=torch.long)\n",
    "    max_length = padded_sequences.size(1)\n",
    "    mask = torch.arange(max_length).expand(len(sequences), max_length) < sequence_lengths.unsqueeze(1)\n",
    "    \n",
    "    return padded_sequences, padded_labels, mask"
   ]
  },
  {
   "cell_type": "code",
   "execution_count": 65,
   "id": "1fa920b5",
   "metadata": {},
   "outputs": [],
   "source": [
    "data_loader = DataLoader(df , batch_size=16 , shuffle=True,collate_fn=custom_collate_fn)"
   ]
  },
  {
   "cell_type": "code",
   "execution_count": 66,
   "id": "f2969edb",
   "metadata": {},
   "outputs": [
    {
     "name": "stdout",
     "output_type": "stream",
     "text": [
      "embeddings.weight   torch.Size([12850, 128])\n",
      "lstm.weight_ih_l0   torch.Size([1024, 128])\n",
      "lstm.weight_hh_l0   torch.Size([1024, 256])\n",
      "lstm.bias_ih_l0   torch.Size([1024])\n",
      "lstm.bias_hh_l0   torch.Size([1024])\n",
      "final.weight   torch.Size([17, 256])\n",
      "final.bias   torch.Size([17])\n"
     ]
    }
   ],
   "source": [
    "for i,j in lstm.named_parameters():\n",
    "    print(i,\" \",j.shape)"
   ]
  },
  {
   "cell_type": "code",
   "execution_count": 67,
   "id": "406ca89d",
   "metadata": {},
   "outputs": [],
   "source": [
    "loss_fn = nn.NLLLoss(ignore_index=-1)\n",
    "optimizer = torch.optim.Adam(lstm.parameters(),lr=0.01)"
   ]
  },
  {
   "cell_type": "markdown",
   "id": "b04f5763",
   "metadata": {},
   "source": [
    "### Using adventure data of brown corpus for evaluation and humor data for testing"
   ]
  },
  {
   "cell_type": "code",
   "execution_count": 68,
   "id": "70aad5b2",
   "metadata": {},
   "outputs": [],
   "source": [
    "brown_eval_sentences = [\" \".join(sentence) for sentence in brown.sents(categories=\"adventure\")]"
   ]
  },
  {
   "cell_type": "code",
   "execution_count": 69,
   "id": "7fd67775",
   "metadata": {},
   "outputs": [],
   "source": [
    "brown_tags_eval_sentences = [[tag.pos_ for tag in pos(sentence)] for sentence in brown_eval_sentences]"
   ]
  },
  {
   "cell_type": "code",
   "execution_count": 70,
   "id": "b04ca7f2",
   "metadata": {},
   "outputs": [],
   "source": [
    "id_brown_eval_sentences=[]\n",
    "id_brown_tags_eval_sentences=[]\n",
    "\n",
    "for i,j in zip(brown_eval_sentences,brown_tags_eval_sentences):\n",
    "    a,b = index_sentences(i,j)\n",
    "    id_brown_eval_sentences.append(a)\n",
    "    id_brown_tags_eval_sentences.append(b)"
   ]
  },
  {
   "cell_type": "code",
   "execution_count": null,
   "id": "c0287c1d",
   "metadata": {},
   "outputs": [],
   "source": []
  },
  {
   "cell_type": "code",
   "execution_count": 71,
   "id": "cbc36d9d",
   "metadata": {},
   "outputs": [],
   "source": [
    "brown_test_sentences = [\" \".join(sentence) for sentence in brown.sents(categories=\"humor\")]"
   ]
  },
  {
   "cell_type": "code",
   "execution_count": 72,
   "id": "d9dddfce",
   "metadata": {},
   "outputs": [],
   "source": [
    "brown_tags_test_sentences = [[tag.pos_ for tag in pos(sentence)] for sentence in brown_test_sentences]"
   ]
  },
  {
   "cell_type": "code",
   "execution_count": 73,
   "id": "50c7f1a3",
   "metadata": {},
   "outputs": [],
   "source": [
    "id_brown_test_sentences=[]\n",
    "id_brown_tags_test_sentences=[]\n",
    "\n",
    "for i,j in zip(brown_test_sentences,brown_tags_test_sentences):\n",
    "    a,b = index_sentences(i,j)\n",
    "    id_brown_test_sentences.append(a)\n",
    "    id_brown_tags_test_sentences.append(b)"
   ]
  },
  {
   "cell_type": "code",
   "execution_count": null,
   "id": "67c44195",
   "metadata": {},
   "outputs": [],
   "source": []
  },
  {
   "cell_type": "code",
   "execution_count": 74,
   "id": "b775e728",
   "metadata": {},
   "outputs": [
    {
     "data": {
      "text/plain": [
       "9260"
      ]
     },
     "execution_count": 74,
     "metadata": {},
     "output_type": "execute_result"
    }
   ],
   "source": [
    "brown_train_eval_sentences=[]\n",
    "brown_train_eval_sentences +=brown_sentences\n",
    "brown_train_eval_sentences +=brown_eval_sentences\n",
    "len(brown_train_eval_sentences)"
   ]
  },
  {
   "cell_type": "code",
   "execution_count": 75,
   "id": "f171aef5",
   "metadata": {},
   "outputs": [
    {
     "data": {
      "text/plain": [
       "9260"
      ]
     },
     "execution_count": 75,
     "metadata": {},
     "output_type": "execute_result"
    }
   ],
   "source": [
    "brown_tags_train_eval_sentences=[]\n",
    "brown_tags_train_eval_sentences +=brown_tags_sentences\n",
    "brown_tags_train_eval_sentences +=brown_tags_eval_sentences\n",
    "len(brown_tags_train_eval_sentences)"
   ]
  },
  {
   "cell_type": "code",
   "execution_count": 76,
   "id": "843501d8",
   "metadata": {},
   "outputs": [],
   "source": [
    "id_brown_train_eval_sentences=[]\n",
    "id_brown_tags_train_eval_sentences=[]\n",
    "\n",
    "for i,j in zip(brown_train_eval_sentences,brown_tags_train_eval_sentences):\n",
    "    a,b = index_sentences(i,j)\n",
    "    id_brown_train_eval_sentences.append(a)\n",
    "    id_brown_tags_train_eval_sentences.append(b)"
   ]
  },
  {
   "cell_type": "code",
   "execution_count": null,
   "id": "c69c1991",
   "metadata": {},
   "outputs": [],
   "source": []
  },
  {
   "cell_type": "code",
   "execution_count": 91,
   "id": "350c5ceb",
   "metadata": {},
   "outputs": [],
   "source": [
    "data_loader_eval = DataLoader( posdata(id_brown_eval_sentences , id_brown_tags_eval_sentences), batch_size=16 , shuffle=True,collate_fn=custom_collate_fn)"
   ]
  },
  {
   "cell_type": "code",
   "execution_count": 92,
   "id": "c3adb220",
   "metadata": {},
   "outputs": [],
   "source": [
    "data_loader_test = DataLoader( posdata(id_brown_test_sentences , id_brown_tags_test_sentences), batch_size=16 , shuffle=True,collate_fn=custom_collate_fn)"
   ]
  },
  {
   "cell_type": "code",
   "execution_count": 93,
   "id": "8acf39ac",
   "metadata": {},
   "outputs": [],
   "source": [
    "data_loader_train_eval = DataLoader( posdata(id_brown_train_eval_sentences , id_brown_tags_train_eval_sentences) , batch_size=16 , shuffle=True,collate_fn=custom_collate_fn)"
   ]
  },
  {
   "cell_type": "markdown",
   "id": "8b272194",
   "metadata": {},
   "source": [
    "### Without hyperparameter tuning"
   ]
  },
  {
   "cell_type": "code",
   "execution_count": 80,
   "id": "fc068d4e",
   "metadata": {},
   "outputs": [],
   "source": [
    "loss_epochs=[]"
   ]
  },
  {
   "cell_type": "code",
   "execution_count": 81,
   "id": "2e2598a4",
   "metadata": {
    "scrolled": true
   },
   "outputs": [
    {
     "name": "stdout",
     "output_type": "stream",
     "text": [
      "Epochs-------> 0\n",
      "avg_loss after training 2.307258421162008\n",
      "Epochs-------> 1\n",
      "avg_loss after training 2.2342891507495235\n",
      "Epochs-------> 2\n",
      "avg_loss after training 2.1992226327579325\n",
      "Epochs-------> 3\n",
      "avg_loss after training 2.160463878027708\n",
      "Epochs-------> 4\n",
      "avg_loss after training 2.155809002351596\n",
      "Epochs-------> 5\n",
      "avg_loss after training 2.143599017681135\n",
      "Epochs-------> 6\n",
      "avg_loss after training 2.144796030331648\n",
      "Epochs-------> 7\n",
      "avg_loss after training 2.127227020511165\n",
      "Epochs-------> 8\n",
      "avg_loss after training 2.1080442254518554\n",
      "Epochs-------> 9\n",
      "avg_loss after training 2.1115472436363723\n",
      "Epochs-------> 10\n",
      "avg_loss after training 2.1251405050597802\n",
      "Epochs-------> 11\n",
      "avg_loss after training 2.0875335733783285\n",
      "Epochs-------> 12\n",
      "avg_loss after training 2.147986306038695\n",
      "Epochs-------> 13\n",
      "avg_loss after training 2.1308878072405357\n",
      "Epochs-------> 14\n",
      "avg_loss after training 2.1016442020871646\n",
      "Epochs-------> 15\n",
      "avg_loss after training 2.107658424179447\n",
      "Epochs-------> 16\n",
      "avg_loss after training 2.117570663199705\n",
      "Epochs-------> 17\n",
      "avg_loss after training 2.1010551382513607\n",
      "Epochs-------> 18\n",
      "avg_loss after training 2.117072381775272\n",
      "Epochs-------> 19\n",
      "avg_loss after training 2.1191329588939576\n"
     ]
    }
   ],
   "source": [
    "for epochs in range(20):\n",
    "    \n",
    "    print(\"Epochs------->\",epochs)\n",
    "    \n",
    "    lstm.train()\n",
    "    avg_loss=avg_eval_loss=0\n",
    "    for i,data in enumerate(data_loader) :\n",
    "        \n",
    "        x_train , y_train , mask = data\n",
    "        \n",
    "        y_pred=lstm(x_train)\n",
    "        \n",
    "        y_pred = y_pred.view(-1, output_size)\n",
    "        y_train = y_train.view(-1)\n",
    "        mask = mask.view(-1)\n",
    "\n",
    "        \n",
    "        non_pad_indices = mask.nonzero(as_tuple=True)[0]\n",
    "        \n",
    "        y_pred = y_pred[non_pad_indices]\n",
    "        y_train = y_train[non_pad_indices]\n",
    "            \n",
    "        loss=loss_fn(y_pred,y_train)\n",
    "        \n",
    "        if i%1000 == 999 :\n",
    "            print(\"Loss for batch \",i,\" is \",loss.item())\n",
    "        \n",
    "        \n",
    "        avg_loss += loss.item()\n",
    "        \n",
    "        optimizer.zero_grad()\n",
    "        loss.backward()\n",
    "        optimizer.step()\n",
    "        \n",
    "    print(\"avg_loss after training\",avg_loss/(i+1))  \n",
    "    \n",
    "    loss_epochs.append(avg_loss/(i+1))"
   ]
  },
  {
   "cell_type": "code",
   "execution_count": 82,
   "id": "54b35651",
   "metadata": {},
   "outputs": [
    {
     "data": {
      "text/plain": [
       "[<matplotlib.lines.Line2D at 0x1e9051a45b0>]"
      ]
     },
     "execution_count": 82,
     "metadata": {},
     "output_type": "execute_result"
    },
    {
     "data": {
      "image/png": "[encoded data removed]",
      "text/plain": [
       "<Figure size 432x288 with 1 Axes>"
      ]
     },
     "metadata": {
      "needs_background": "light"
     },
     "output_type": "display_data"
    }
   ],
   "source": [
    "plt.plot(loss_epochs)"
   ]
  },
  {
   "cell_type": "code",
   "execution_count": 100,
   "id": "9225af96",
   "metadata": {},
   "outputs": [
    {
     "name": "stdout",
     "output_type": "stream",
     "text": [
      "Loss for batch  9  is  2.344944715499878\n",
      "Accuracy for batch  9  is  0.11610486891385768\n"
     ]
    }
   ],
   "source": [
    "lstm.eval()\n",
    "avg_loss=avg_eval_loss=accuracy_avg=0\n",
    "with torch.no_grad():\n",
    "    \n",
    "    \n",
    "    \n",
    "    for i,data in enumerate(data_loader_test) :\n",
    "    \n",
    "        x_test , y_test , mask = data\n",
    "        \n",
    "        y_pred=lstm(x_test)\n",
    "        \n",
    "        \n",
    "        y_pred = y_pred.view(-1, output_size)\n",
    "        y_test = y_test.view(-1)\n",
    "        mask = mask.view(-1)\n",
    "        \n",
    "#         print(\"Shape of y_test:\", y_test.shape)\n",
    "#         print(\"Shape of mask:\", mask.shape)\n",
    "#         print(\"Shape of non_pad_indices:\", non_pad_indices.shape)\n",
    "\n",
    "\n",
    "        \n",
    "        non_pad_indices = mask.nonzero(as_tuple=True)[0]\n",
    "        \n",
    "        y_pred = y_pred[non_pad_indices]\n",
    "        y_test = y_test[non_pad_indices]\n",
    "            \n",
    "        loss=loss_fn(y_pred,y_test)\n",
    "        \n",
    "        _ , y_pred=torch.max(y_pred,dim=1)\n",
    "        \n",
    "        accuracy=accuracy_score(y_pred,y_test)\n",
    "        \n",
    "        if i%1000 == 9 :\n",
    "            print(\"Loss for batch \",i,\" is \",loss.item())\n",
    "            print(\"Accuracy for batch \",i,\" is \",accuracy)\n",
    "        \n",
    "        \n",
    "        avg_loss += loss.item()\n",
    "        accuracy_avg += accuracy\n",
    "    "
   ]
  },
  {
   "cell_type": "code",
   "execution_count": 101,
   "id": "8b929933",
   "metadata": {},
   "outputs": [
    {
     "name": "stdout",
     "output_type": "stream",
     "text": [
      "avg_loss after testing 2.3213599197792285\n"
     ]
    }
   ],
   "source": [
    "print(\"avg_loss after testing\",avg_loss/(i+1))"
   ]
  },
  {
   "cell_type": "code",
   "execution_count": 102,
   "id": "31a4d46d",
   "metadata": {},
   "outputs": [
    {
     "name": "stdout",
     "output_type": "stream",
     "text": [
      "accuracy_avg after testing 0.17021258685577756\n"
     ]
    }
   ],
   "source": [
    "print(\"accuracy_avg after testing\",accuracy_avg/(i+1))"
   ]
  },
  {
   "cell_type": "code",
   "execution_count": null,
   "id": "894de2be",
   "metadata": {},
   "outputs": [],
   "source": []
  },
  {
   "cell_type": "code",
   "execution_count": null,
   "id": "1090e762",
   "metadata": {},
   "outputs": [],
   "source": []
  },
  {
   "cell_type": "code",
   "execution_count": null,
   "id": "3b03e285",
   "metadata": {},
   "outputs": [],
   "source": []
  },
  {
   "cell_type": "code",
   "execution_count": null,
   "id": "fe254478",
   "metadata": {},
   "outputs": [],
   "source": []
  }
 ],
 "metadata": {
  "kernelspec": {
   "display_name": "Python 3 (ipykernel)",
   "language": "python",
   "name": "python3"
  },
  "language_info": {
   "codemirror_mode": {
    "name": "ipython",
    "version": 3
   },
   "file_extension": ".py",
   "mimetype": "text/x-python",
   "name": "python",
   "nbconvert_exporter": "python",
   "pygments_lexer": "ipython3",
   "version": "3.9.7"
  }
 },
 "nbformat": 4,
 "nbformat_minor": 5
}
